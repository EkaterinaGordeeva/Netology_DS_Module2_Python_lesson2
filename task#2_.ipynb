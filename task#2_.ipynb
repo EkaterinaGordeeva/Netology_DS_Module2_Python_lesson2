{
 "cells": [
  {
   "cell_type": "code",
   "execution_count": null,
   "metadata": {},
   "outputs": [],
   "source": [
    "#Задание 1 \n",
    "#объявление спиcка \n",
    "geo_logs = [ \n",
    "{'visit1': ['Москва', 'Россия']}, \n",
    "{'visit2': ['Дели', 'Индия']}, \n",
    "{'visit3': ['Владимир', 'Россия']}, \n",
    "{'visit4': ['Лиссабон', 'Португалия']}, \n",
    "{'visit5': ['Париж', 'Франция']}, \n",
    "{'visit6': ['Лиссабон', 'Португалия']}, \n",
    "{'visit7': ['Тула', 'Россия']}, \n",
    "{'visit8': ['Тула', 'Россия']}, \n",
    "{'visit9': ['Курск', 'Россия']}, \n",
    "{'visit10': ['Архангельск', 'Россия']}, \n",
    "] \n",
    "for i in range(len(geo_logs)): \n",
    "\tfor keys in geo_logs[i].keys(): \n",
    "\t\tif geo_logs[i][keys][1]=='Россия': print(geo_logs[i]) \n",
    "\t\t#или может быть вот такой вариант, но выводятся пустные списки, не придумала,как от них избавиться простым методом.\n",
    "\t\t#print([x for x in geo_logs[i].items() if geo_logs[i][keys][1]=='Россия']) "
   ]
  },
  {
   "cell_type": "code",
   "execution_count": null,
   "metadata": {},
   "outputs": [],
   "source": [
    "#Задание 2 \n",
    "ids = {'user1': [213, 213, 213, 15, 213], 'user2': [54, 54, 119, 119, 119], 'user3': [213, 98, 98, 35]} \n",
    "new=[] \n",
    "for keys in ids.keys(): \n",
    "\tnew=new+ids[keys] \n",
    "print(list(set(new)))"
   ]
  },
  {
   "cell_type": "code",
   "execution_count": null,
   "metadata": {},
   "outputs": [],
   "source": [
    "#Задание 3 \n",
    "#объявление спиcка \n",
    "queries = [ \n",
    "'смотреть сериалы онлайн', \n",
    "'новости спорта', \n",
    "'афиша кино', \n",
    "'курс доллара', \n",
    "'сериалы этим летом', \n",
    "'курс по питону', \n",
    "'сериалы про спорт', \n",
    "] \n",
    "new=[] \n",
    "length=[] \n",
    "#разделение слов в элементах списка \n",
    "for i in range(len(queries)): \n",
    "\tnew=new+[queries[i].split(' ')] \n",
    "#подсчет количества слов в каждом элементе списка \n",
    "for i in range(len(new)): \n",
    "\tlength=length+[len(new[i])] \n",
    "#выделение уникальных значений количества слов в каждом запросе \n",
    "unic=list(set(length)) \n",
    "#подсчет процентного соотношения количества слов в запросе(решила не сохранять в список, а просто вывести значения на экран) \n",
    "for i in range(len(unic)): \n",
    "\tprint('Поисковый запрос из ',unic[i], 'слов = ',float('{:.2f}'.format(length.count(unic[i])/len(length)*100)),'%') \n"
   ]
  },
  {
   "cell_type": "code",
   "execution_count": null,
   "metadata": {},
   "outputs": [],
   "source": [
    "#Задание 4 \n",
    "#объявление спиcка \n",
    "stats = {'facebook': 55, 'yandex': 120, 'vk': 115, 'google': 99, 'email': 42, 'ok': 98} \n",
    "max_val=max(stats.values()) \n",
    "stats_max={k:v for k,v in stats.items() if v==max_val} \n",
    "print(stats_max.keys()) "
   ]
  },
  {
   "cell_type": "code",
   "execution_count": null,
   "metadata": {},
   "outputs": [],
   "source": [
    "#Задание 5 \n",
    "#объявление спиcка \n",
    "stream = [\n",
    "'2018-01-01,user1,3',\n",
    "'2018-01-07,user1,4',\n",
    "'2018-03-29,user1,1',\n",
    "'2018-04-04,user1,13',\n",
    "'2018-01-05,user2,7',\n",
    "'2018-06-14,user3,4',\n",
    "'2018-07-02,user3,10',\n",
    "'2018-03-21,user4,19',\n",
    "'2018-03-22,user4,4',\n",
    "'2018-04-22,user4,8',\n",
    "'2018-05-03,user4,9',\n",
    "'2018-05-11,user4,11',\n",
    "]\n",
    "stats=[]\n",
    "logs={}\n",
    "for line in stream:\n",
    "    stats=line.split(',')\n",
    "    logs.setdefault(stats[1],0) \n",
    "    logs[stats[1]] += int(stats[2])\n",
    "average=sum(logs.values())/len(logs.keys())\n",
    "average"
   ]
  },
  {
   "cell_type": "code",
   "execution_count": null,
   "metadata": {},
   "outputs": [],
   "source": [
    "#Задание 6\n",
    "#объявление спиcка  \n",
    "stats = [ \n",
    "['2018-01-01', 'google', 25], \n",
    "['2018-01-01', 'yandex', 65], \n",
    "['2018-01-01', 'market', 89], \n",
    "['2018-01-02', 'google', 574], \n",
    "['2018-01-02', 'yandex', 249], \n",
    "['2018-01-02', 'market', 994], \n",
    "['2018-01-03', 'google', 1843], \n",
    "['2018-01-03', 'yandex', 1327], \n",
    "['2018-01-03', 'market', 1764], \n",
    "] \n",
    "#функция поиска значения по двум вводынм \n",
    "def search(date, company): \n",
    "\tfor i in range(len(stats)): \n",
    "\t\tif (stats[i][0]==date and stats[i][1]==company): print(stats[i][2]) \n",
    "\t#или такой вариант\n",
    "\t#print([line for line in stats if (line[0]==date and line[1]==company)])\n",
    "print('Введите дату в формате ГГГГ-ММ-ДД') \n",
    "date=input() \n",
    "print('Введите название компании') \n",
    "company=input() \n",
    "#можно было бы ввести две переменные сразу через запятую, записать их в список, а потом избавиться от запятой, а в передавать значения не по отдельности, а одним списком. Даже не знаю, какой вариант лучше.\n",
    "search(date, company) "
   ]
  },
  {
   "cell_type": "code",
   "execution_count": null,
   "metadata": {},
   "outputs": [],
   "source": [
    "#Бонусное задание\n",
    "#объявление спиcка  \n",
    "stats = [ \n",
    "['2018-01-01', 'google', 25], \n",
    "['2018-01-01', 'yandex', 65], \n",
    "['2018-01-01', 'market', 89], \n",
    "['2018-01-02', 'google', 574],\n",
    "['2018-01-02', 'yandex', 249], \n",
    "['2018-01-02', 'market', 994], \n",
    "['2018-01-03', 'google', 1843], \n",
    "['2018-01-03', 'yandex', 1327], \n",
    "['2018-01-03', 'market', 1764], \n",
    "] \n",
    "\n",
    "def search(val):\n",
    "    for line in stats:\n",
    "        length=len(line)\n",
    "\t#сравнение списка признаков со списком введенных признаков\n",
    "        print([x[length-1] for x in line if line[:(len(line)-1)]==val[0:]])\n",
    "#ввод признаков через запятую.\n",
    "val=(input()).split(',')\n",
    "search(val)"
   ]
  }
 ],
 "metadata": {
  "kernelspec": {
   "display_name": "Python 3",
   "language": "python",
   "name": "python3"
  },
  "language_info": {
   "codemirror_mode": {
    "name": "ipython",
    "version": 3
   },
   "file_extension": ".py",
   "mimetype": "text/x-python",
   "name": "python",
   "nbconvert_exporter": "python",
   "pygments_lexer": "ipython3",
   "version": "3.7.1"
  }
 },
 "nbformat": 4,
 "nbformat_minor": 2
}
